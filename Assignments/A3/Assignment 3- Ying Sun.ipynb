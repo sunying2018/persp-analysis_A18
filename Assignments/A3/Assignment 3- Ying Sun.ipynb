{
 "cells": [
  {
   "cell_type": "markdown",
   "metadata": {},
   "source": [
    "# 1. Simulation in Sociology, Moretti (2002)"
   ]
  },
  {
   "cell_type": "markdown",
   "metadata": {},
   "source": [
    "See attached PDF."
   ]
  },
  {
   "cell_type": "markdown",
   "metadata": {},
   "source": [
    "# 2. Simulating your income"
   ]
  },
  {
   "cell_type": "markdown",
   "metadata": {},
   "source": [
    "## (a) Answer of Question 1"
   ]
  },
  {
   "cell_type": "code",
   "execution_count": 1,
   "metadata": {},
   "outputs": [],
   "source": [
    "# Import initial packages\n",
    "import numpy as np\n",
    "import matplotlib.pyplot as plt\n",
    "from matplotlib.ticker import MultipleLocator"
   ]
  },
  {
   "cell_type": "code",
   "execution_count": 2,
   "metadata": {},
   "outputs": [],
   "source": [
    "def inc_sim(p):\n",
    "    \n",
    "    \"\"\"\n",
    "    Requires a simulation profile, p, structured as a dictionary\n",
    "    \n",
    "    p = {\n",
    "        'inc0'        : integer,    #starting income\n",
    "        'gr'          : float,      #long-run growth rate of income\n",
    "        'rho'         : flot,       #postive dependence of today's income on last period's income\n",
    "        'st_year'     : integer,    #start year\n",
    "        'w_years'     : integer,    #years to work\n",
    "        'sd'          : float,      #standard deviation of lognormal distribution\n",
    "        'num_draws'   : integer,    #simulations\n",
    "        'mu'          : float,      #mean of lognormal distribution\n",
    "    }\n",
    "    \"\"\"    \n",
    "\n",
    "    #set random seed\n",
    "    np.random.seed(524)\n",
    "\n",
    "    lognorm_errors = np.random.normal(p['mu'], p['sd'],(p['w_years'], p['num_draws']))\n",
    "\n",
    "    #create a matrix of dim (w_years, num_draws)\n",
    "    ln_income_mat = np.zeros((p['w_years'], p['num_draws']))\n",
    "\n",
    "    #fill the matrix\n",
    "    ln_income_mat[0, :] = np.log(p['inc0']) + lognorm_errors[0, :]\n",
    "\n",
    "    #loop and apply model\n",
    "    for yr in range(1, p['w_years']):\n",
    "        ln_income_mat[yr, :] = (1 - p['rho']) * (np.log(p['inc0']) + p['gr'] * (yr)) +\\\n",
    "                                p['rho'] * ln_income_mat[yr - 1, :]  + lognorm_errors[yr, :]\n",
    "    \n",
    "    #dealing with large numbers so put in terms of 10k's                                                    \n",
    "    income_mat = np.exp(ln_income_mat) \n",
    "    return income_mat\n",
    "\n"
   ]
  },
  {
   "cell_type": "code",
   "execution_count": 3,
   "metadata": {},
   "outputs": [
    {
     "name": "stdout",
     "output_type": "stream",
     "text": [
      "[[ 66409.15585396  98274.13534194 101939.81109509 ...  98720.39690442\n",
      "   72404.51636886  68710.32820307]\n",
      " [ 80020.53020329  67383.19350738  84557.85626308 ...  68247.7770509\n",
      "   74518.33613244  80555.96068584]\n",
      " [ 75805.26636606  66134.42494243  91458.20304692 ...  67268.53350159\n",
      "   90012.42673528  80645.62355527]\n",
      " ...\n",
      " [272690.56519108 217821.73027242 184724.24512469 ... 159922.45424852\n",
      "  253961.68337673 209741.55004062]\n",
      " [231539.17420799 202509.15149494 197955.96626493 ... 199502.43481758\n",
      "  210951.71828579 205420.27946389]\n",
      " [197895.95201384 165115.10025278 172644.86927513 ... 248654.44847819\n",
      "  234237.14656466 221566.29879732]]\n"
     ]
    }
   ],
   "source": [
    "simulation_profile = {\n",
    "    'inc0'        : 80000,\n",
    "    'gr'          : 0.025,\n",
    "    'rho'         : 0.4,\n",
    "    'st_year'     : int(2020),\n",
    "    'w_years'     : 40,\n",
    "    'sd'          : 0.13, \n",
    "    'num_draws'   : 10000,\n",
    "    'mu'          : 0\n",
    "}\n",
    "\n",
    "income_mat = inc_sim(simulation_profile)\n",
    "print(income_mat)\n",
    " "
   ]
  },
  {
   "cell_type": "markdown",
   "metadata": {},
   "source": [
    "Then we plot one of lifetime income paths:"
   ]
  },
  {
   "cell_type": "code",
   "execution_count": 4,
   "metadata": {},
   "outputs": [
    {
     "data": {
      "text/plain": [
       "Text(0, 0.5, 'Annual Income (\\\\$s)')"
      ]
     },
     "execution_count": 4,
     "metadata": {},
     "output_type": "execute_result"
    },
    {
     "data": {
      "image/png": "[encoded data removed]",
      "text/plain": [
       "<Figure size 432x288 with 1 Axes>"
      ]
     },
     "metadata": {
      "needs_background": "light"
     },
     "output_type": "display_data"
    }
   ],
   "source": [
    "%matplotlib inline\n",
    "p = simulation_profile\n",
    "year_vec = np.arange(p['st_year'], p['st_year'] + p['w_years'])\n",
    "individual = 500\n",
    "fig, ax = plt.subplots()\n",
    "plt.plot(year_vec, income_mat[:, individual])\n",
    "minorLocator = MultipleLocator(1)\n",
    "ax.xaxis.set_minor_locator(minorLocator)\n",
    "plt.grid(b=True, which='major', color='0.65', linestyle='-')\n",
    "plt.title('Individual simulated worktime income', fontsize=10)\n",
    "plt.xlabel(r'Year $t$')\n",
    "plt.ylabel(r'Annual Income (\\$s)')"
   ]
  },
  {
   "cell_type": "markdown",
   "metadata": {},
   "source": [
    "## (b) Answer of Question 2"
   ]
  },
  {
   "cell_type": "code",
   "execution_count": 5,
   "metadata": {
    "scrolled": true
   },
   "outputs": [
    {
     "data": {
      "text/plain": [
       "Text(0.5, 1.0, 'Histogram for Simulated Starting Income')"
      ]
     },
     "execution_count": 5,
     "metadata": {},
     "output_type": "execute_result"
    },
    {
     "data": {
      "image/png": "[encoded data removed]",
      "text/plain": [
       "<Figure size 432x288 with 1 Axes>"
      ]
     },
     "metadata": {
      "needs_background": "light"
     },
     "output_type": "display_data"
    }
   ],
   "source": [
    "# plot the histogram\n",
    "plt.hist(income_mat[0,:], bins=50)\n",
    "plt.xlabel(\"Simulated Income\")\n",
    "plt.title(\"Histogram for Simulated Starting Income\")"
   ]
  },
  {
   "cell_type": "markdown",
   "metadata": {},
   "source": [
    "Accroding to the histogram above, the distribution is nearly normal, but it is slightly right skewed."
   ]
  },
  {
   "cell_type": "markdown",
   "metadata": {},
   "source": [
    "Counting the percent of the class who earn more than 100000:"
   ]
  },
  {
   "cell_type": "code",
   "execution_count": 6,
   "metadata": {},
   "outputs": [
    {
     "name": "stdout",
     "output_type": "stream",
     "text": [
      "0.0417\n"
     ]
    }
   ],
   "source": [
    "income_above = np.mean(income_mat[0, :] > 100000)\n",
    "print(income_above)"
   ]
  },
  {
   "cell_type": "markdown",
   "metadata": {},
   "source": [
    "So 4.17% of my class will earn more than $100000 in the first year out of the program."
   ]
  },
  {
   "cell_type": "markdown",
   "metadata": {},
   "source": [
    "Counting the percent of the class who earn less than 70000:"
   ]
  },
  {
   "cell_type": "code",
   "execution_count": 7,
   "metadata": {},
   "outputs": [
    {
     "name": "stdout",
     "output_type": "stream",
     "text": [
      "0.1512\n"
     ]
    }
   ],
   "source": [
    "income_below = np.mean(income_mat[0, :] < 70000)\n",
    "print(income_below)"
   ]
  },
  {
   "cell_type": "markdown",
   "metadata": {},
   "source": [
    "And 15.12% of the class will earn less than $70000 in the first year out of the program."
   ]
  },
  {
   "cell_type": "markdown",
   "metadata": {},
   "source": [
    "## (c) Answer of Question 3"
   ]
  },
  {
   "cell_type": "code",
   "execution_count": 8,
   "metadata": {},
   "outputs": [],
   "source": [
    "def repay_sim(p,income_mat):\n",
    "    '''\n",
    "    Simulate the amount of repay\n",
    "    \n",
    "    Inputs: p: simulation profile\n",
    "            income_matrix:a matrix of income\n",
    "    Returns: a matrix of the amount of repay\n",
    "    \n",
    "    '''\n",
    "    repay = np.zeros((p['w_years'], p['num_draws']))\n",
    "    repay[0, :] = income_mat[0,:] * 0.1\n",
    "    for yr in range(1,p['w_years']):\n",
    "        repay[yr,:] = repay[yr - 1,:] + income_mat[yr, :] * 0.1\n",
    "    return repay"
   ]
  },
  {
   "cell_type": "code",
   "execution_count": 9,
   "metadata": {},
   "outputs": [],
   "source": [
    "def repay_yr(p,income_mat):\n",
    "    '''\n",
    "    Calculate the year when I can payoff the loan\n",
    "    Inputs: p: simulation profile\n",
    "            income_matrix:a matrix of income\n",
    "    \n",
    "    Returns: a list of the year when I can payoff the loan\n",
    "    '''\n",
    "    repay_yr = [0] * p['num_draws']\n",
    "    repay = repay_sim(p, income_mat)\n",
    "    for i in range(p['num_draws']):\n",
    "        for yr in range(p['w_years']):\n",
    "            if repay[yr,i] >= 95000:\n",
    "                repay_yr[i] = yr + 1\n",
    "                break\n",
    "    return repay_yr"
   ]
  },
  {
   "cell_type": "code",
   "execution_count": 10,
   "metadata": {},
   "outputs": [],
   "source": [
    "def cal_percent(p, ls):\n",
    "    '''\n",
    "    Calculate the percent of the simulations that I am able to pay off the loan\n",
    "    Inputs: p: simulation profile\n",
    "            repay_yr:a list of the year when I can payoff the loan\n",
    "    Returns: the percent of the simulations that I am able to pay off the loan\n",
    "    \n",
    "    '''\n",
    "    num=0\n",
    "    for i in range(p['num_draws']):\n",
    "        if ls[i] <= 10:\n",
    "            num = num + 1\n",
    "    percent = num/p['num_draws']\n",
    "    return percent  "
   ]
  },
  {
   "cell_type": "markdown",
   "metadata": {},
   "source": [
    "Calculate the percent of simulation that I am able to pay off the loan in 10 year:"
   ]
  },
  {
   "cell_type": "code",
   "execution_count": 11,
   "metadata": {},
   "outputs": [
    {
     "name": "stdout",
     "output_type": "stream",
     "text": [
      "0.1678\n"
     ]
    }
   ],
   "source": [
    "repay_yrs= repay_yr(simulation_profile, income_mat)\n",
    "percent = cal_percent(simulation_profile, repay_yrs)\n",
    "print(percent)"
   ]
  },
  {
   "cell_type": "markdown",
   "metadata": {},
   "source": [
    "So in 16.78% of the simulation I am able to pay off the loan in 10 years."
   ]
  },
  {
   "cell_type": "markdown",
   "metadata": {},
   "source": [
    "Then we plot the histogram of how many years it takes to pay off the loan in each of 10000 simulations:"
   ]
  },
  {
   "cell_type": "code",
   "execution_count": 12,
   "metadata": {},
   "outputs": [
    {
     "data": {
      "text/plain": [
       "Text(0.5, 1.0, 'Histogram for years to pay off the loan')"
      ]
     },
     "execution_count": 12,
     "metadata": {},
     "output_type": "execute_result"
    },
    {
     "data": {
      "image/png": "[encoded data removed]",
      "text/plain": [
       "<Figure size 432x288 with 1 Axes>"
      ]
     },
     "metadata": {
      "needs_background": "light"
     },
     "output_type": "display_data"
    }
   ],
   "source": [
    "plt.hist(repay_yrs, density = True, bins = np.arange(min(repay_yrs) -5, max(repay_yrs) +5))\n",
    "plt.xlabel(\"Years to pay off the loan\")\n",
    "plt.title(\"Histogram for years to pay off the loan\")"
   ]
  },
  {
   "cell_type": "markdown",
   "metadata": {},
   "source": [
    "## (d) Answer of Question 4"
   ]
  },
  {
   "cell_type": "code",
   "execution_count": 13,
   "metadata": {},
   "outputs": [
    {
     "name": "stdout",
     "output_type": "stream",
     "text": [
      "[[ 70550.46142451 117783.33011091 123561.20729139 ... 118483.24080508\n",
      "   78992.81966812  73764.25171169]\n",
      " [ 89615.63768821  71575.56495871  96317.75493523 ...  72778.88084775\n",
      "   81644.3347736   90400.57899801]\n",
      " [ 82955.30101689  69396.06916251 106035.55593099 ...  70956.3661129\n",
      "  103848.93176006  89949.09077038]\n",
      " ...\n",
      " [338309.11761165 252187.52025149 203293.03644369 ... 168361.21927259\n",
      "  308250.29858492 240024.49205936]\n",
      " [271061.07048342 227502.32436192 220836.5697397  ... 223095.32811759\n",
      "  239983.96514044 231788.44418303]\n",
      " [219057.46748997 172865.33333479 183245.71710131 ... 295275.8618388\n",
      "  273090.00167035 253934.86273481]]\n"
     ]
    }
   ],
   "source": [
    "new_simulation_profile = {\n",
    "    'inc0'        : 90000,\n",
    "    'gr'          : 0.025,\n",
    "    'rho'         : 0.4,\n",
    "    'st_year'     : int(2020),\n",
    "    'w_years'     : 40,\n",
    "    'sd'          : 0.17, \n",
    "    'num_draws'   : 10000,\n",
    "    'mu'          : 0\n",
    "}\n",
    "\n",
    "income_mat = inc_sim(new_simulation_profile)\n",
    "print(income_mat)"
   ]
  },
  {
   "cell_type": "code",
   "execution_count": 14,
   "metadata": {},
   "outputs": [
    {
     "name": "stdout",
     "output_type": "stream",
     "text": [
      "0.7602\n"
     ]
    }
   ],
   "source": [
    "new_inc = inc_sim(new_simulation_profile)\n",
    "new_repay_yr = repay_yr(new_simulation_profile,new_inc)\n",
    "new_percent = cal_percent(new_simulation_profile,new_repay_yr)\n",
    "print(new_percent)"
   ]
  },
  {
   "cell_type": "markdown",
   "metadata": {},
   "source": [
    "Accodring to the result, in 76.02% of the simulations that I am able to pay off the loan in 10 years."
   ]
  },
  {
   "cell_type": "markdown",
   "metadata": {},
   "source": [
    "Then we plot the new histogram of how many years it takes to pay off my loan of $95,000 in my new 10,000 simulations with the new standard deviation and the new average initial salary"
   ]
  },
  {
   "cell_type": "code",
   "execution_count": 15,
   "metadata": {},
   "outputs": [
    {
     "data": {
      "text/plain": [
       "Text(0.5, 1.0, 'Histogram for years to pay off the loan')"
      ]
     },
     "execution_count": 15,
     "metadata": {},
     "output_type": "execute_result"
    },
    {
     "data": {
      "image/png": "[encoded data removed]",
      "text/plain": [
       "<Figure size 432x288 with 1 Axes>"
      ]
     },
     "metadata": {
      "needs_background": "light"
     },
     "output_type": "display_data"
    }
   ],
   "source": [
    "plt.hist(new_repay_yr, density = True, bins = np.arange(min(new_repay_yr) -5, max(new_repay_yr) +5))\n",
    "plt.xlabel(\"Years to pay off the loan\")\n",
    "plt.title(\"Histogram for years to pay off the loan\")"
   ]
  }
 ],
 "metadata": {
  "kernelspec": {
   "display_name": "Python 3",
   "language": "python",
   "name": "python3"
  },
  "language_info": {
   "codemirror_mode": {
    "name": "ipython",
    "version": 3
   },
   "file_extension": ".py",
   "mimetype": "text/x-python",
   "name": "python",
   "nbconvert_exporter": "python",
   "pygments_lexer": "ipython3",
   "version": "3.6.6"
  }
 },
 "nbformat": 4,
 "nbformat_minor": 2
}
